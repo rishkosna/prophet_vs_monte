{
 "cells": [
  {
   "cell_type": "code",
   "execution_count": 1,
   "metadata": {},
   "outputs": [],
   "source": [
    "import json\n",
    "import requests\n",
    "import pandas\n",
    "pandas.options.mode.chained_assignment = None  # default='warn'\n",
    "import numpy\n",
    "from datetime import *\n",
    "from KalshiClientsBase import ExchangeClient\n",
    "import config\n",
    "from misc import simple_df\n",
    "from IPython.display import display"
   ]
  },
  {
   "cell_type": "code",
   "execution_count": null,
   "metadata": {},
   "outputs": [],
   "source": [
    "# info for log in, entered through config\n",
    "username = config.username\n",
    "password = config.password\n",
    "base_url = \"https://trading-api.kalshi.com\"\n",
    "\n",
    "# log in\n",
    "client = ExchangeClient(base_url, username, password)\n",
    "print(client.user_id)"
   ]
  },
  {
   "cell_type": "code",
   "execution_count": null,
   "metadata": {},
   "outputs": [],
   "source": [
    "# read in markets through api (array of json objects) and covert to pandas dataframe\n",
    "market_data = client.get_public_markets()\n",
    "df_unfiltered = pandas.json_normalize(market_data, record_path=['markets']).sort_values(by= 'close_date')\n",
    "df = df_unfiltered[['id', 'category', 'mini_title', 'sub_title', 'yes_ask', 'recent_volume', 'create_date', 'close_date']]\n",
    "df"
   ]
  },
  {
   "cell_type": "code",
   "execution_count": null,
   "metadata": {},
   "outputs": [],
   "source": [
    "par = {\n",
    "    \"limit\": 20,\n",
    "    \"min_date\": int(datetime.timestamp(datetime.now() - timedelta(days=1))),\n",
    "    \"max_date\": int(datetime.timestamp(datetime.now() + timedelta(days=1)))\n",
    "}\n",
    "market_data = client.get_active_markets(par)\n",
    "df = pandas.json_normalize(market_data, record_path=['active_markets'])\n",
    "df\n"
   ]
  }
 ],
 "metadata": {
  "interpreter": {
   "hash": "6aface7680e1bcabeb4894d2462150deeaf02cb4dab0f60b4205d803821c5cea"
  },
  "kernelspec": {
   "display_name": "Python 3.8.8 ('base')",
   "language": "python",
   "name": "python3"
  },
  "language_info": {
   "codemirror_mode": {
    "name": "ipython",
    "version": 3
   },
   "file_extension": ".py",
   "mimetype": "text/x-python",
   "name": "python",
   "nbconvert_exporter": "python",
   "pygments_lexer": "ipython3",
   "version": "3.8.8"
  },
  "orig_nbformat": 4
 },
 "nbformat": 4,
 "nbformat_minor": 2
}
